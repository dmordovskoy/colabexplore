{
  "nbformat": 4,
  "nbformat_minor": 0,
  "metadata": {
    "colab": {
      "name": "Colab Sample Date Exporation",
      "provenance": []
    },
    "kernelspec": {
      "name": "python3",
      "display_name": "Python 3"
    }
  },
  "cells": [
    {
      "cell_type": "code",
      "metadata": {
        "id": "9rT5tyN1MD_y"
      },
      "source": [
        "import numpy as np\n",
        "import pandas as pd\n",
        "import matplotlib.pyplot as plt\n",
        "\n",
        "%matplotlib inline"
      ],
      "execution_count": null,
      "outputs": []
    },
    {
      "cell_type": "code",
      "metadata": {
        "id": "TTihLG-SMXHT"
      },
      "source": [
        "df = pd.read_csv(\n",
        "    '/content/netflix_titles.csv')"
      ],
      "execution_count": 21,
      "outputs": []
    },
    {
      "cell_type": "code",
      "metadata": {
        "colab": {
          "base_uri": "https://localhost:8080/"
        },
        "id": "RyTEaDSKMa43",
        "outputId": "c0828de9-ccd2-4675-804e-061688db87d1"
      },
      "source": [
        "df.info()"
      ],
      "execution_count": 22,
      "outputs": [
        {
          "output_type": "stream",
          "text": [
            "<class 'pandas.core.frame.DataFrame'>\n",
            "RangeIndex: 7787 entries, 0 to 7786\n",
            "Data columns (total 12 columns):\n",
            " #   Column        Non-Null Count  Dtype \n",
            "---  ------        --------------  ----- \n",
            " 0   show_id       7787 non-null   object\n",
            " 1   type          7787 non-null   object\n",
            " 2   title         7787 non-null   object\n",
            " 3   director      5398 non-null   object\n",
            " 4   cast          7069 non-null   object\n",
            " 5   country       7280 non-null   object\n",
            " 6   date_added    7777 non-null   object\n",
            " 7   release_year  7787 non-null   int64 \n",
            " 8   rating        7780 non-null   object\n",
            " 9   duration      7787 non-null   object\n",
            " 10  listed_in     7787 non-null   object\n",
            " 11  description   7787 non-null   object\n",
            "dtypes: int64(1), object(11)\n",
            "memory usage: 730.2+ KB\n"
          ],
          "name": "stdout"
        }
      ]
    },
    {
      "cell_type": "code",
      "metadata": {
        "colab": {
          "base_uri": "https://localhost:8080/",
          "height": 629
        },
        "id": "f1_LFhysnGUb",
        "outputId": "1a9f9ba9-7d43-4f59-ad4e-545f1feefd6a"
      },
      "source": [
        "df.head()"
      ],
      "execution_count": 23,
      "outputs": [
        {
          "output_type": "execute_result",
          "data": {
            "text/html": [
              "<div>\n",
              "<style scoped>\n",
              "    .dataframe tbody tr th:only-of-type {\n",
              "        vertical-align: middle;\n",
              "    }\n",
              "\n",
              "    .dataframe tbody tr th {\n",
              "        vertical-align: top;\n",
              "    }\n",
              "\n",
              "    .dataframe thead th {\n",
              "        text-align: right;\n",
              "    }\n",
              "</style>\n",
              "<table border=\"1\" class=\"dataframe\">\n",
              "  <thead>\n",
              "    <tr style=\"text-align: right;\">\n",
              "      <th></th>\n",
              "      <th>show_id</th>\n",
              "      <th>type</th>\n",
              "      <th>title</th>\n",
              "      <th>director</th>\n",
              "      <th>cast</th>\n",
              "      <th>country</th>\n",
              "      <th>date_added</th>\n",
              "      <th>release_year</th>\n",
              "      <th>rating</th>\n",
              "      <th>duration</th>\n",
              "      <th>listed_in</th>\n",
              "      <th>description</th>\n",
              "    </tr>\n",
              "  </thead>\n",
              "  <tbody>\n",
              "    <tr>\n",
              "      <th>0</th>\n",
              "      <td>s1</td>\n",
              "      <td>TV Show</td>\n",
              "      <td>3%</td>\n",
              "      <td>NaN</td>\n",
              "      <td>João Miguel, Bianca Comparato, Michel Gomes, R...</td>\n",
              "      <td>Brazil</td>\n",
              "      <td>August 14, 2020</td>\n",
              "      <td>2020</td>\n",
              "      <td>TV-MA</td>\n",
              "      <td>4 Seasons</td>\n",
              "      <td>International TV Shows, TV Dramas, TV Sci-Fi &amp;...</td>\n",
              "      <td>In a future where the elite inhabit an island ...</td>\n",
              "    </tr>\n",
              "    <tr>\n",
              "      <th>1</th>\n",
              "      <td>s2</td>\n",
              "      <td>Movie</td>\n",
              "      <td>7:19</td>\n",
              "      <td>Jorge Michel Grau</td>\n",
              "      <td>Demián Bichir, Héctor Bonilla, Oscar Serrano, ...</td>\n",
              "      <td>Mexico</td>\n",
              "      <td>December 23, 2016</td>\n",
              "      <td>2016</td>\n",
              "      <td>TV-MA</td>\n",
              "      <td>93 min</td>\n",
              "      <td>Dramas, International Movies</td>\n",
              "      <td>After a devastating earthquake hits Mexico Cit...</td>\n",
              "    </tr>\n",
              "    <tr>\n",
              "      <th>2</th>\n",
              "      <td>s3</td>\n",
              "      <td>Movie</td>\n",
              "      <td>23:59</td>\n",
              "      <td>Gilbert Chan</td>\n",
              "      <td>Tedd Chan, Stella Chung, Henley Hii, Lawrence ...</td>\n",
              "      <td>Singapore</td>\n",
              "      <td>December 20, 2018</td>\n",
              "      <td>2011</td>\n",
              "      <td>R</td>\n",
              "      <td>78 min</td>\n",
              "      <td>Horror Movies, International Movies</td>\n",
              "      <td>When an army recruit is found dead, his fellow...</td>\n",
              "    </tr>\n",
              "    <tr>\n",
              "      <th>3</th>\n",
              "      <td>s4</td>\n",
              "      <td>Movie</td>\n",
              "      <td>9</td>\n",
              "      <td>Shane Acker</td>\n",
              "      <td>Elijah Wood, John C. Reilly, Jennifer Connelly...</td>\n",
              "      <td>United States</td>\n",
              "      <td>November 16, 2017</td>\n",
              "      <td>2009</td>\n",
              "      <td>PG-13</td>\n",
              "      <td>80 min</td>\n",
              "      <td>Action &amp; Adventure, Independent Movies, Sci-Fi...</td>\n",
              "      <td>In a postapocalyptic world, rag-doll robots hi...</td>\n",
              "    </tr>\n",
              "    <tr>\n",
              "      <th>4</th>\n",
              "      <td>s5</td>\n",
              "      <td>Movie</td>\n",
              "      <td>21</td>\n",
              "      <td>Robert Luketic</td>\n",
              "      <td>Jim Sturgess, Kevin Spacey, Kate Bosworth, Aar...</td>\n",
              "      <td>United States</td>\n",
              "      <td>January 1, 2020</td>\n",
              "      <td>2008</td>\n",
              "      <td>PG-13</td>\n",
              "      <td>123 min</td>\n",
              "      <td>Dramas</td>\n",
              "      <td>A brilliant group of students become card-coun...</td>\n",
              "    </tr>\n",
              "  </tbody>\n",
              "</table>\n",
              "</div>"
            ],
            "text/plain": [
              "  show_id  ...                                        description\n",
              "0      s1  ...  In a future where the elite inhabit an island ...\n",
              "1      s2  ...  After a devastating earthquake hits Mexico Cit...\n",
              "2      s3  ...  When an army recruit is found dead, his fellow...\n",
              "3      s4  ...  In a postapocalyptic world, rag-doll robots hi...\n",
              "4      s5  ...  A brilliant group of students become card-coun...\n",
              "\n",
              "[5 rows x 12 columns]"
            ]
          },
          "metadata": {
            "tags": []
          },
          "execution_count": 23
        }
      ]
    },
    {
      "cell_type": "code",
      "metadata": {
        "colab": {
          "base_uri": "https://localhost:8080/"
        },
        "id": "fQKV6M9pnLAQ",
        "outputId": "5b257b4f-6d0e-4bcc-9618-b7e06ac7b144"
      },
      "source": [
        "df['title']"
      ],
      "execution_count": 25,
      "outputs": [
        {
          "output_type": "execute_result",
          "data": {
            "text/plain": [
              "0                                            3%\n",
              "1                                          7:19\n",
              "2                                         23:59\n",
              "3                                             9\n",
              "4                                            21\n",
              "                         ...                   \n",
              "7782                                       Zozo\n",
              "7783                                     Zubaan\n",
              "7784                          Zulu Man in Japan\n",
              "7785                      Zumbo's Just Desserts\n",
              "7786    ZZ TOP: THAT LITTLE OL' BAND FROM TEXAS\n",
              "Name: title, Length: 7787, dtype: object"
            ]
          },
          "metadata": {
            "tags": []
          },
          "execution_count": 25
        }
      ]
    },
    {
      "cell_type": "markdown",
      "metadata": {
        "id": "AXo0HSzknw2c"
      },
      "source": [
        "# New Section"
      ]
    },
    {
      "cell_type": "code",
      "metadata": {
        "colab": {
          "base_uri": "https://localhost:8080/"
        },
        "id": "e60Pceh6NDle",
        "outputId": "f3582cef-02f2-4ffa-f87f-b318481c2492"
      },
      "source": [
        "df.loc[24]"
      ],
      "execution_count": 26,
      "outputs": [
        {
          "output_type": "execute_result",
          "data": {
            "text/plain": [
              "show_id                                                       s25\n",
              "type                                                      TV Show\n",
              "title                         ​SAINT SEIYA: Knights of the Zodiac\n",
              "director                                                      NaN\n",
              "cast            Bryson Baugus, Emily Neves, Blake Shepard, Pat...\n",
              "country                                                     Japan\n",
              "date_added                                       January 23, 2020\n",
              "release_year                                                 2020\n",
              "rating                                                      TV-14\n",
              "duration                                                2 Seasons\n",
              "listed_in                    Anime Series, International TV Shows\n",
              "description     Seiya and the Knights of the Zodiac rise again...\n",
              "Name: 24, dtype: object"
            ]
          },
          "metadata": {
            "tags": []
          },
          "execution_count": 26
        }
      ]
    },
    {
      "cell_type": "code",
      "metadata": {
        "colab": {
          "base_uri": "https://localhost:8080/"
        },
        "id": "k3ZQ0DuUmz_l",
        "outputId": "da64745a-db90-407f-d30d-ad84c069db66"
      },
      "source": [
        "df.iloc[24]"
      ],
      "execution_count": 27,
      "outputs": [
        {
          "output_type": "execute_result",
          "data": {
            "text/plain": [
              "show_id                                                       s25\n",
              "type                                                      TV Show\n",
              "title                         ​SAINT SEIYA: Knights of the Zodiac\n",
              "director                                                      NaN\n",
              "cast            Bryson Baugus, Emily Neves, Blake Shepard, Pat...\n",
              "country                                                     Japan\n",
              "date_added                                       January 23, 2020\n",
              "release_year                                                 2020\n",
              "rating                                                      TV-14\n",
              "duration                                                2 Seasons\n",
              "listed_in                    Anime Series, International TV Shows\n",
              "description     Seiya and the Knights of the Zodiac rise again...\n",
              "Name: 24, dtype: object"
            ]
          },
          "metadata": {
            "tags": []
          },
          "execution_count": 27
        }
      ]
    }
  ]
}